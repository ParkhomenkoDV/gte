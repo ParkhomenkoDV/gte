{
 "cells": [
  {
   "cell_type": "markdown",
   "metadata": {},
   "source": [
    "# Установка библиотек"
   ]
  },
  {
   "cell_type": "code",
   "execution_count": 1,
   "metadata": {},
   "outputs": [
    {
     "name": "stdout",
     "output_type": "stream",
     "text": [
      "Requirement already satisfied: numpy in /Users/daniilandryushin/Projects/gte/.venv/lib/python3.12/site-packages (2.3.3)\n",
      "Requirement already satisfied: pandas in /Users/daniilandryushin/Projects/gte/.venv/lib/python3.12/site-packages (2.3.2)\n",
      "Requirement already satisfied: python-dateutil>=2.8.2 in /Users/daniilandryushin/Projects/gte/.venv/lib/python3.12/site-packages (from pandas) (2.9.0.post0)\n",
      "Requirement already satisfied: pytz>=2020.1 in /Users/daniilandryushin/Projects/gte/.venv/lib/python3.12/site-packages (from pandas) (2025.2)\n",
      "Requirement already satisfied: tzdata>=2022.7 in /Users/daniilandryushin/Projects/gte/.venv/lib/python3.12/site-packages (from pandas) (2025.2)\n",
      "Requirement already satisfied: six>=1.5 in /Users/daniilandryushin/Projects/gte/.venv/lib/python3.12/site-packages (from python-dateutil>=2.8.2->pandas) (1.17.0)\n"
     ]
    }
   ],
   "source": [
    "!pip install --upgrade numpy pandas"
   ]
  },
  {
   "cell_type": "code",
   "execution_count": 2,
   "metadata": {},
   "outputs": [
    {
     "name": "stdout",
     "output_type": "stream",
     "text": [
      "Collecting git+https://github.com/ParkhomenkoDV/gte.git@master\n",
      "  Cloning https://github.com/ParkhomenkoDV/gte.git (to revision master) to /private/var/folders/mk/r_rkj6991c17fkq5ny4k51080000gn/T/pip-req-build-5ctdid3z\n",
      "  Running command git clone --filter=blob:none --quiet https://github.com/ParkhomenkoDV/gte.git /private/var/folders/mk/r_rkj6991c17fkq5ny4k51080000gn/T/pip-req-build-5ctdid3z\n",
      "  Resolved https://github.com/ParkhomenkoDV/gte.git to commit df4b0a7c40658df55a2fa8199bbb215c56a6fc21\n",
      "  Installing build dependencies ... \u001b[?25ldone\n",
      "\u001b[?25h  Getting requirements to build wheel ... \u001b[?25ldone\n",
      "\u001b[?25h  Preparing metadata (pyproject.toml) ... \u001b[?25ldone\n",
      "\u001b[?25hRequirement already satisfied: colorama in /Users/daniilandryushin/Projects/gte/.venv/lib/python3.12/site-packages (from gte==2025.9.26.17) (0.4.6)\n",
      "Requirement already satisfied: tqdm in /Users/daniilandryushin/Projects/gte/.venv/lib/python3.12/site-packages (from gte==2025.9.26.17) (4.67.1)\n",
      "Requirement already satisfied: numpy in /Users/daniilandryushin/Projects/gte/.venv/lib/python3.12/site-packages (from gte==2025.9.26.17) (2.3.3)\n",
      "Requirement already satisfied: pandas in /Users/daniilandryushin/Projects/gte/.venv/lib/python3.12/site-packages (from gte==2025.9.26.17) (2.3.2)\n",
      "Requirement already satisfied: openpyxl in /Users/daniilandryushin/Projects/gte/.venv/lib/python3.12/site-packages (from gte==2025.9.26.17) (3.1.5)\n",
      "Requirement already satisfied: jinja2 in /Users/daniilandryushin/Projects/gte/.venv/lib/python3.12/site-packages (from gte==2025.9.26.17) (3.1.6)\n",
      "Requirement already satisfied: scipy in /Users/daniilandryushin/Projects/gte/.venv/lib/python3.12/site-packages (from gte==2025.9.26.17) (1.16.2)\n",
      "Requirement already satisfied: matplotlib in /Users/daniilandryushin/Projects/gte/.venv/lib/python3.12/site-packages (from gte==2025.9.26.17) (3.10.6)\n",
      "Collecting mathematics@ git+https://github.com/ParkhomenkoDV/mathematics.git@master (from gte==2025.9.26.17)\n",
      "  Cloning https://github.com/ParkhomenkoDV/mathematics.git (to revision master) to /private/var/folders/mk/r_rkj6991c17fkq5ny4k51080000gn/T/pip-install-vgpmdhej/mathematics_7205cbd6ed944217a0559eeb6ee9024e\n",
      "  Running command git clone --filter=blob:none --quiet https://github.com/ParkhomenkoDV/mathematics.git /private/var/folders/mk/r_rkj6991c17fkq5ny4k51080000gn/T/pip-install-vgpmdhej/mathematics_7205cbd6ed944217a0559eeb6ee9024e\n",
      "  Resolved https://github.com/ParkhomenkoDV/mathematics.git to commit fbac3749c7b301477d4fa04a7f8bebca6880448d\n",
      "  Installing build dependencies ... \u001b[?25ldone\n",
      "\u001b[?25h  Getting requirements to build wheel ... \u001b[?25ldone\n",
      "\u001b[?25h  Preparing metadata (pyproject.toml) ... \u001b[?25ldone\n",
      "\u001b[?25hCollecting thermodynamics@ git+https://github.com/ParkhomenkoDV/thermodynamics.git@master (from gte==2025.9.26.17)\n",
      "  Cloning https://github.com/ParkhomenkoDV/thermodynamics.git (to revision master) to /private/var/folders/mk/r_rkj6991c17fkq5ny4k51080000gn/T/pip-install-vgpmdhej/thermodynamics_1431774e1dab4ff3959e74eab9b39a72\n",
      "  Running command git clone --filter=blob:none --quiet https://github.com/ParkhomenkoDV/thermodynamics.git /private/var/folders/mk/r_rkj6991c17fkq5ny4k51080000gn/T/pip-install-vgpmdhej/thermodynamics_1431774e1dab4ff3959e74eab9b39a72\n",
      "  Resolved https://github.com/ParkhomenkoDV/thermodynamics.git to commit e3ee683de998d0df6164db1a061224e48d1088f5\n",
      "  Installing build dependencies ... \u001b[?25ldone\n",
      "\u001b[?25h  Getting requirements to build wheel ... \u001b[?25ldone\n",
      "\u001b[?25h  Preparing metadata (pyproject.toml) ... \u001b[?25ldone\n",
      "\u001b[?25hCollecting substance@ git+https://github.com/ParkhomenkoDV/substance.git@master (from gte==2025.9.26.17)\n",
      "  Cloning https://github.com/ParkhomenkoDV/substance.git (to revision master) to /private/var/folders/mk/r_rkj6991c17fkq5ny4k51080000gn/T/pip-install-vgpmdhej/substance_d5c86e329a474577a8c22632dfd17e60\n",
      "  Running command git clone --filter=blob:none --quiet https://github.com/ParkhomenkoDV/substance.git /private/var/folders/mk/r_rkj6991c17fkq5ny4k51080000gn/T/pip-install-vgpmdhej/substance_d5c86e329a474577a8c22632dfd17e60\n",
      "  Resolved https://github.com/ParkhomenkoDV/substance.git to commit edb4c405202ddda2a59fe2f8063dae24b2e6fa55\n",
      "  Installing build dependencies ... \u001b[?25ldone\n",
      "\u001b[?25h  Getting requirements to build wheel ... \u001b[?25ldone\n",
      "\u001b[?25h  Preparing metadata (pyproject.toml) ... \u001b[?25ldone\n",
      "\u001b[?25hRequirement already satisfied: pytest in /Users/daniilandryushin/Projects/gte/.venv/lib/python3.12/site-packages (from mathematics@ git+https://github.com/ParkhomenkoDV/mathematics.git@master->gte==2025.9.26.17) (8.4.2)\n",
      "Collecting decorators@ git+https://github.com/ParkhomenkoDV/decorators.git@master (from substance@ git+https://github.com/ParkhomenkoDV/substance.git@master->gte==2025.9.26.17)\n",
      "  Cloning https://github.com/ParkhomenkoDV/decorators.git (to revision master) to /private/var/folders/mk/r_rkj6991c17fkq5ny4k51080000gn/T/pip-install-vgpmdhej/decorators_8c87de00222a4614837ff292049fbe74\n",
      "  Running command git clone --filter=blob:none --quiet https://github.com/ParkhomenkoDV/decorators.git /private/var/folders/mk/r_rkj6991c17fkq5ny4k51080000gn/T/pip-install-vgpmdhej/decorators_8c87de00222a4614837ff292049fbe74\n",
      "  Resolved https://github.com/ParkhomenkoDV/decorators.git to commit 6ff7601de9d74d28a971df40cffb47ace66aed51\n",
      "  Installing build dependencies ... \u001b[?25ldone\n",
      "\u001b[?25h  Getting requirements to build wheel ... \u001b[?25ldone\n",
      "\u001b[?25h  Preparing metadata (pyproject.toml) ... \u001b[?25ldone\n",
      "\u001b[?25hRequirement already satisfied: MarkupSafe>=2.0 in /Users/daniilandryushin/Projects/gte/.venv/lib/python3.12/site-packages (from jinja2->gte==2025.9.26.17) (3.0.2)\n",
      "Requirement already satisfied: contourpy>=1.0.1 in /Users/daniilandryushin/Projects/gte/.venv/lib/python3.12/site-packages (from matplotlib->gte==2025.9.26.17) (1.3.3)\n",
      "Requirement already satisfied: cycler>=0.10 in /Users/daniilandryushin/Projects/gte/.venv/lib/python3.12/site-packages (from matplotlib->gte==2025.9.26.17) (0.12.1)\n",
      "Requirement already satisfied: fonttools>=4.22.0 in /Users/daniilandryushin/Projects/gte/.venv/lib/python3.12/site-packages (from matplotlib->gte==2025.9.26.17) (4.59.0)\n",
      "Requirement already satisfied: kiwisolver>=1.3.1 in /Users/daniilandryushin/Projects/gte/.venv/lib/python3.12/site-packages (from matplotlib->gte==2025.9.26.17) (1.4.8)\n",
      "Requirement already satisfied: packaging>=20.0 in /Users/daniilandryushin/Projects/gte/.venv/lib/python3.12/site-packages (from matplotlib->gte==2025.9.26.17) (25.0)\n",
      "Requirement already satisfied: pillow>=8 in /Users/daniilandryushin/Projects/gte/.venv/lib/python3.12/site-packages (from matplotlib->gte==2025.9.26.17) (11.3.0)\n",
      "Requirement already satisfied: pyparsing>=2.3.1 in /Users/daniilandryushin/Projects/gte/.venv/lib/python3.12/site-packages (from matplotlib->gte==2025.9.26.17) (3.2.3)\n",
      "Requirement already satisfied: python-dateutil>=2.7 in /Users/daniilandryushin/Projects/gte/.venv/lib/python3.12/site-packages (from matplotlib->gte==2025.9.26.17) (2.9.0.post0)\n",
      "Requirement already satisfied: six>=1.5 in /Users/daniilandryushin/Projects/gte/.venv/lib/python3.12/site-packages (from python-dateutil>=2.7->matplotlib->gte==2025.9.26.17) (1.17.0)\n",
      "Requirement already satisfied: et-xmlfile in /Users/daniilandryushin/Projects/gte/.venv/lib/python3.12/site-packages (from openpyxl->gte==2025.9.26.17) (2.0.0)\n",
      "Requirement already satisfied: pytz>=2020.1 in /Users/daniilandryushin/Projects/gte/.venv/lib/python3.12/site-packages (from pandas->gte==2025.9.26.17) (2025.2)\n",
      "Requirement already satisfied: tzdata>=2022.7 in /Users/daniilandryushin/Projects/gte/.venv/lib/python3.12/site-packages (from pandas->gte==2025.9.26.17) (2025.2)\n",
      "Requirement already satisfied: iniconfig>=1 in /Users/daniilandryushin/Projects/gte/.venv/lib/python3.12/site-packages (from pytest->mathematics@ git+https://github.com/ParkhomenkoDV/mathematics.git@master->gte==2025.9.26.17) (2.1.0)\n",
      "Requirement already satisfied: pluggy<2,>=1.5 in /Users/daniilandryushin/Projects/gte/.venv/lib/python3.12/site-packages (from pytest->mathematics@ git+https://github.com/ParkhomenkoDV/mathematics.git@master->gte==2025.9.26.17) (1.6.0)\n",
      "Requirement already satisfied: pygments>=2.7.2 in /Users/daniilandryushin/Projects/gte/.venv/lib/python3.12/site-packages (from pytest->mathematics@ git+https://github.com/ParkhomenkoDV/mathematics.git@master->gte==2025.9.26.17) (2.19.2)\n",
      "Building wheels for collected packages: gte, mathematics, substance, decorators, thermodynamics\n",
      "  Building wheel for gte (pyproject.toml) ... \u001b[?25ldone\n",
      "\u001b[?25h  Created wheel for gte: filename=gte-2025.9.26.17-py3-none-any.whl size=62643 sha256=482e043f5998af12330ba442dc63f0e63a33bdc4385d4b7305dec4b29b6044f3\n",
      "  Stored in directory: /private/var/folders/mk/r_rkj6991c17fkq5ny4k51080000gn/T/pip-ephem-wheel-cache-jlo942cg/wheels/d7/2a/0b/923e56e4d3b6b290e5ba324be09aa1e045abee215640842b4c\n",
      "  Building wheel for mathematics (pyproject.toml) ... \u001b[?25ldone\n",
      "\u001b[?25h  Created wheel for mathematics: filename=mathematics-2025.9.26.17-py3-none-any.whl size=9791 sha256=b32a78ca6554c9f207d54ef43157c5df128fbe0a84ce02ac39b72d92100088ea\n",
      "  Stored in directory: /private/var/folders/mk/r_rkj6991c17fkq5ny4k51080000gn/T/pip-ephem-wheel-cache-jlo942cg/wheels/93/a5/63/9fdb8fd14c7c5d1a3311f854f9da83a4c623beaf489544aeb3\n",
      "  Building wheel for substance (pyproject.toml) ... \u001b[?25ldone\n",
      "\u001b[?25h  Created wheel for substance: filename=substance-2025.9.26.17-py3-none-any.whl size=35238 sha256=fd509f1f7913281dff21b1445375176c84fc302c71405a13cf2239d092f9d193\n",
      "  Stored in directory: /private/var/folders/mk/r_rkj6991c17fkq5ny4k51080000gn/T/pip-ephem-wheel-cache-jlo942cg/wheels/c9/58/5a/ef8c3a173bf3e3a1dcd34b0dca04004dae8220ed50534162ed\n",
      "  Building wheel for decorators (pyproject.toml) ... \u001b[?25ldone\n",
      "\u001b[?25h  Created wheel for decorators: filename=decorators-2025.9.26.17-py3-none-any.whl size=8229 sha256=5ad76ea01343fa49a5c928a60fd785457940960f712c3bf341fbd0fca85dbc89\n",
      "  Stored in directory: /private/var/folders/mk/r_rkj6991c17fkq5ny4k51080000gn/T/pip-ephem-wheel-cache-jlo942cg/wheels/fa/2a/0f/0a00c184fc408b259d3aef4f35fe4b8c4f3fdbc874f8f28b77\n",
      "  Building wheel for thermodynamics (pyproject.toml) ... \u001b[?25ldone\n",
      "\u001b[?25h  Created wheel for thermodynamics: filename=thermodynamics-2025.9.26.17-py3-none-any.whl size=13369 sha256=e50a3daf46884e78a57b681c550fefe55eee1084a593e408b1520df9fcd7590f\n",
      "  Stored in directory: /private/var/folders/mk/r_rkj6991c17fkq5ny4k51080000gn/T/pip-ephem-wheel-cache-jlo942cg/wheels/07/54/3f/c20015e22a2162b5d663edc6bed234a859c7f5cb839eae2925\n",
      "Successfully built gte mathematics substance decorators thermodynamics\n",
      "Installing collected packages: mathematics, decorators, thermodynamics, substance, gte\n",
      "\u001b[2K  Attempting uninstall: mathematics\n",
      "\u001b[2K    Found existing installation: mathematics 2025.9.26.14\n",
      "\u001b[2K    Uninstalling mathematics-2025.9.26.14:\n",
      "\u001b[2K      Successfully uninstalled mathematics-2025.9.26.14\n",
      "\u001b[2K  Attempting uninstall: decorators\n",
      "\u001b[2K    Found existing installation: decorators 2025.9.26.14\n",
      "\u001b[2K    Uninstalling decorators-2025.9.26.14:\n",
      "\u001b[2K      Successfully uninstalled decorators-2025.9.26.14\n",
      "\u001b[2K  Attempting uninstall: thermodynamics\n",
      "\u001b[2K    Found existing installation: thermodynamics 2025.9.26.14\n",
      "\u001b[2K    Uninstalling thermodynamics-2025.9.26.14:\n",
      "\u001b[2K      Successfully uninstalled thermodynamics-2025.9.26.14\n",
      "\u001b[2K  Attempting uninstall: substance\n",
      "\u001b[2K    Found existing installation: substance 2025.9.26.14\n",
      "\u001b[2K    Uninstalling substance-2025.9.26.14:\n",
      "\u001b[2K      Successfully uninstalled substance-2025.9.26.14\n",
      "\u001b[2K  Attempting uninstall: gte\n",
      "\u001b[2K    Found existing installation: gte 2025.7.30.19\n",
      "\u001b[2K    Uninstalling gte-2025.7.30.19:\n",
      "\u001b[2K      Successfully uninstalled gte-2025.7.30.19\n",
      "\u001b[2K   \u001b[90m━━━━━━━━━━━━━━━━━━━━━━━━━━━━━━━━━━━━━━━━\u001b[0m \u001b[32m5/5\u001b[0m [gte]\u001b[32m4/5\u001b[0m [gte]\n",
      "\u001b[1A\u001b[2KSuccessfully installed decorators-2025.9.26.17 gte-2025.9.26.17 mathematics-2025.9.26.17 substance-2025.9.26.17 thermodynamics-2025.9.26.17\n"
     ]
    }
   ],
   "source": [
    "!pip install --upgrade git+https://github.com/ParkhomenkoDV/gte.git@master"
   ]
  },
  {
   "cell_type": "markdown",
   "metadata": {},
   "source": [
    "## Импорт библиотек"
   ]
  },
  {
   "cell_type": "markdown",
   "metadata": {},
   "source": [
    "### Стандартные библиотеки"
   ]
  },
  {
   "cell_type": "code",
   "execution_count": 1,
   "metadata": {},
   "outputs": [],
   "source": [
    "import os\n",
    "\n",
    "import pandas as pd\n",
    "import numpy as np"
   ]
  },
  {
   "cell_type": "markdown",
   "metadata": {},
   "source": [
    "### Частные библиотеки"
   ]
  },
  {
   "cell_type": "code",
   "execution_count": 4,
   "metadata": {},
   "outputs": [
    {
     "ename": "ModuleNotFoundError",
     "evalue": "No module named 'gte'",
     "output_type": "error",
     "traceback": [
      "\u001b[31m---------------------------------------------------------------------------\u001b[39m",
      "\u001b[31mModuleNotFoundError\u001b[39m                       Traceback (most recent call last)",
      "\u001b[36mCell\u001b[39m\u001b[36m \u001b[39m\u001b[32mIn[4]\u001b[39m\u001b[32m, line 2\u001b[39m\n\u001b[32m      1\u001b[39m \u001b[38;5;66;03m# from gte import GTE\u001b[39;00m\n\u001b[32m----> \u001b[39m\u001b[32m2\u001b[39m \u001b[38;5;28;01mfrom\u001b[39;00m\u001b[38;5;250m \u001b[39m\u001b[34;01mgte\u001b[39;00m\u001b[34;01m.\u001b[39;00m\u001b[34;01mnodes\u001b[39;00m\u001b[38;5;250m \u001b[39m\u001b[38;5;28;01mimport\u001b[39;00m Compressor, CombustionChamber  \u001b[38;5;66;03m# , Turbine, Outlet\u001b[39;00m\n",
      "\u001b[31mModuleNotFoundError\u001b[39m: No module named 'gte'"
     ]
    }
   ],
   "source": [
    "# from gte import GTE\n",
    "from gte.nodes import Compressor, CombustionChamber  # , Turbine, Outlet"
   ]
  },
  {
   "cell_type": "code",
   "execution_count": 2,
   "metadata": {},
   "outputs": [
    {
     "ename": "ModuleNotFoundError",
     "evalue": "No module named 'decorators'",
     "output_type": "error",
     "traceback": [
      "\u001b[1;31m---------------------------------------------------------------------------\u001b[0m",
      "\u001b[1;31mModuleNotFoundError\u001b[0m                       Traceback (most recent call last)",
      "Cell \u001b[1;32mIn[2], line 1\u001b[0m\n\u001b[1;32m----> 1\u001b[0m \u001b[38;5;28;01mfrom\u001b[39;00m \u001b[38;5;21;01mthermodynamics\u001b[39;00m \u001b[38;5;28;01mimport\u001b[39;00m atmosphere_standard, Substance\n",
      "File \u001b[1;32md:\\Study\\ГТДиГТУ\\gte\\calculations\\thermodynamics.py:18\u001b[0m\n\u001b[0;32m     15\u001b[0m sys\u001b[38;5;241m.\u001b[39mpath\u001b[38;5;241m.\u001b[39mappend(\u001b[38;5;124m'\u001b[39m\u001b[38;5;124mD:/Programming/Python\u001b[39m\u001b[38;5;124m'\u001b[39m)\n\u001b[0;32m     16\u001b[0m sys\u001b[38;5;241m.\u001b[39mpath\u001b[38;5;241m.\u001b[39mappend(\u001b[38;5;124m'\u001b[39m\u001b[38;5;124mD:/Study/ГТДиГТУ/gte/calculations/libraries\u001b[39m\u001b[38;5;124m'\u001b[39m)\n\u001b[1;32m---> 18\u001b[0m \u001b[38;5;28;01mimport\u001b[39;00m \u001b[38;5;21;01mdecorators\u001b[39;00m\n\u001b[0;32m     20\u001b[0m \u001b[38;5;28;01mfrom\u001b[39;00m \u001b[38;5;21;01mtools\u001b[39;00m \u001b[38;5;28;01mimport\u001b[39;00m isnum, av, eps\n\u001b[0;32m     21\u001b[0m \u001b[38;5;28;01mfrom\u001b[39;00m \u001b[38;5;21;01mcolorama\u001b[39;00m \u001b[38;5;28;01mimport\u001b[39;00m Fore\n",
      "\u001b[1;31mModuleNotFoundError\u001b[0m: No module named 'decorators'"
     ]
    }
   ],
   "source": [
    "from thermodynamics import atmosphere_standard, Substance"
   ]
  },
  {
   "cell_type": "markdown",
   "metadata": {},
   "source": [
    "# Термодинамический расчет узла ГТД"
   ]
  },
  {
   "cell_type": "code",
   "execution_count": null,
   "metadata": {},
   "outputs": [],
   "source": [
    "compressor = Compressor(\"test_compressor\")"
   ]
  },
  {
   "cell_type": "code",
   "execution_count": null,
   "metadata": {},
   "outputs": [],
   "source": [
    "compressor.summary"
   ]
  },
  {
   "cell_type": "code",
   "execution_count": null,
   "metadata": {},
   "outputs": [],
   "source": []
  },
  {
   "cell_type": "markdown",
   "metadata": {},
   "source": [
    "# Термогазодинамический расчет ГТД"
   ]
  },
  {
   "cell_type": "markdown",
   "metadata": {},
   "source": [
    "## Создание ГТД"
   ]
  },
  {
   "cell_type": "code",
   "execution_count": null,
   "metadata": {},
   "outputs": [],
   "source": [
    "gte = GTE(\"Jumo 004b\")"
   ]
  },
  {
   "cell_type": "markdown",
   "metadata": {},
   "source": [
    "## Определение облика ГТД"
   ]
  },
  {
   "cell_type": "markdown",
   "metadata": {},
   "source": [
    "Схема ГТД"
   ]
  },
  {
   "cell_type": "code",
   "execution_count": null,
   "metadata": {},
   "outputs": [],
   "source": [
    "gte.scheme = {1: [Compressor(), CombustionChamber(), Turbine(), Outlet()]}"
   ]
  },
  {
   "cell_type": "markdown",
   "metadata": {},
   "source": [
    "## Задание характеристик узлов ГТД"
   ]
  },
  {
   "cell_type": "code",
   "execution_count": null,
   "metadata": {},
   "outputs": [],
   "source": [
    "gte.scheme[1][0].σ = [0.98]\n",
    "gte.scheme[1][0].g_leak = 0.005\n",
    "\n",
    "gte.scheme[1][1].ππ = list(np.linspace(3, 9, 6 + 1))\n",
    "gte.scheme[1][1].effeff = 0.86\n",
    "gte.scheme[1][1].g_leak = 0.05\n",
    "\n",
    "gte.scheme[1][2].T_fuel = 40 + 273.15\n",
    "gte.scheme[1][2].η_burn = 0.99\n",
    "gte.scheme[1][2].TT_o = 1800  # list(linspace(800, 1200, 4 + 1))\n",
    "gte.scheme[1][2].T_lim = 1000\n",
    "gte.scheme[1][2].σ = 0.94\n",
    "gte.scheme[1][2].g_leak = 0\n",
    "\n",
    "gte.scheme[1][3].effeff = 0.92\n",
    "gte.scheme[1][3].η_mechanical = 0.99\n",
    "gte.scheme[1][3].T_lim = 1000\n",
    "gte.scheme[1][3].g_leak = 0.05\n",
    "\n",
    "gte.scheme[1][4].PP_o = 101325\n",
    "gte.scheme[1][4].eff = 0.96\n",
    "gte.scheme[1][4].v_ = 0.98\n",
    "gte.scheme[1][4].g_leak = 0.001"
   ]
  },
  {
   "cell_type": "markdown",
   "metadata": {},
   "source": [
    "## Задание валов ГТД"
   ]
  },
  {
   "cell_type": "code",
   "execution_count": null,
   "metadata": {},
   "outputs": [],
   "source": [
    "gte.shafts = {1: [gte.scheme[1][1], gte.scheme[1][3]]}"
   ]
  },
  {
   "cell_type": "markdown",
   "metadata": {},
   "source": [
    "## Схематичная визуализация ГТД"
   ]
  },
  {
   "cell_type": "code",
   "execution_count": null,
   "metadata": {},
   "outputs": [
    {
     "data": {
      "image/png": "[encoded data removed]",
      "text/plain": [
       "<Figure size 1000x800 with 2 Axes>"
      ]
     },
     "metadata": {},
     "output_type": "display_data"
    }
   ],
   "source": [
    "gte.scheme.show()"
   ]
  },
  {
   "cell_type": "markdown",
   "metadata": {},
   "source": [
    "## Определение режима работы ГТД"
   ]
  },
  {
   "cell_type": "markdown",
   "metadata": {},
   "source": [
    "Высотно-скоростная характеристика"
   ]
  },
  {
   "cell_type": "code",
   "execution_count": null,
   "metadata": {},
   "outputs": [],
   "source": [
    "gte.mode.H = 0\n",
    "gte.mode.M = 0"
   ]
  },
  {
   "cell_type": "markdown",
   "metadata": {},
   "source": [
    "Климатическая характеристика"
   ]
  },
  {
   "cell_type": "code",
   "execution_count": null,
   "metadata": {},
   "outputs": [],
   "source": [
    "gte.mode.T = atmosphere_standard(0)[\"T\"][0]\n",
    "gte.mode.P = atmosphere_standard(0)[\"P\"][0]"
   ]
  },
  {
   "cell_type": "markdown",
   "metadata": {},
   "source": [
    "Требования к ГТД"
   ]
  },
  {
   "cell_type": "code",
   "execution_count": null,
   "metadata": {},
   "outputs": [],
   "source": [
    "gte.mode.R = 10_000"
   ]
  },
  {
   "cell_type": "markdown",
   "metadata": {},
   "source": [
    "## Определение рабочего тела и источника энергии ГТД"
   ]
  },
  {
   "cell_type": "code",
   "execution_count": null,
   "metadata": {},
   "outputs": [],
   "source": [
    "gte.substance = Substance({\"N2\": 0.755, \"O2\": 0.2315, \"Ar\": 0.01292, \"Ne\": 0.000014, \"H2\": 0.000008})"
   ]
  },
  {
   "cell_type": "code",
   "execution_count": null,
   "metadata": {},
   "outputs": [],
   "source": [
    "gte.fuel = Substance({\"KEROSENE\": 1.0})"
   ]
  },
  {
   "cell_type": "markdown",
   "metadata": {},
   "source": [
    "## Краткая информация ГТД"
   ]
  },
  {
   "cell_type": "code",
   "execution_count": null,
   "metadata": {},
   "outputs": [
    {
     "name": "stdout",
     "output_type": "stream",
     "text": [
      "name: Jumo 004b\n",
      "\n",
      "scheme:\n",
      "\tcontour: 1\n",
      "\t\tnode: Inlet\n",
      "\t\t\tg_leak: 0.005\n",
      "\t\t\tσ: [0.98]\n",
      "\t\tnode: Compressor\n",
      "\t\t\teffeff: 0.86\n",
      "\t\t\tg_leak: 0.05\n",
      "\t\t\tππ: [3.0, 4.0, 5.0, 6.0, 7.0, 8.0, 9.0]\n",
      "\t\tnode: CombustionChamber\n",
      "\t\t\tTT_o: 1800\n",
      "\t\t\tT_fuel: 313.15\n",
      "\t\t\tT_lim: 1000\n",
      "\t\t\tg_leak: 0\n",
      "\t\t\tη_burn: 0.99\n",
      "\t\t\tσ: 0.94\n",
      "\t\tnode: Turbine\n",
      "\t\t\tT_lim: 1000\n",
      "\t\t\teffeff: 0.92\n",
      "\t\t\tg_leak: 0.05\n",
      "\t\t\tη_mechanical: 0.99\n",
      "\t\tnode: Outlet\n",
      "\t\t\tPP_o: 101325\n",
      "\t\t\teff: 0.96\n",
      "\t\t\tg_leak: 0.001\n",
      "\t\t\tv_: 0.98\n",
      "\n",
      "substance: {'N2': 0.755, 'O2': 0.2315, 'Ar': 0.01292, 'Ne': 1.4e-05, 'H2': 8e-06}\n",
      "fuel: {'KEROSENE': 1.0}\n"
     ]
    }
   ],
   "source": [
    "gte.summary()"
   ]
  },
  {
   "cell_type": "markdown",
   "metadata": {},
   "source": [
    "## Термогазодинамический расчет"
   ]
  },
  {
   "cell_type": "code",
   "execution_count": null,
   "metadata": {},
   "outputs": [
    {
     "name": "stderr",
     "output_type": "stream",
     "text": [
      "Calculation: 100%|██████████████████████| 7/7 [00:03<00:00,  1.80it/s]\n"
     ]
    }
   ],
   "source": [
    "gte.solve()"
   ]
  },
  {
   "cell_type": "code",
   "execution_count": null,
   "metadata": {},
   "outputs": [
    {
     "data": {
      "text/plain": [
       "['analysis',\n",
       " 'correlation',\n",
       " 'airfoil',\n",
       " 'Результаты расчета цикла m0.1 T1523.xlsx',\n",
       " 'Параметры потока на 3 периферийном сечении.xlsx',\n",
       " 'Jumo 004b']"
      ]
     },
     "execution_count": 18,
     "metadata": {},
     "output_type": "execute_result"
    }
   ],
   "source": [
    "os.listdir(\"exports\")"
   ]
  },
  {
   "cell_type": "code",
   "execution_count": null,
   "metadata": {},
   "outputs": [],
   "source": []
  }
 ],
 "metadata": {
  "kernelspec": {
   "display_name": ".venv",
   "language": "python",
   "name": "python3"
  },
  "language_info": {
   "codemirror_mode": {
    "name": "ipython",
    "version": 3
   },
   "file_extension": ".py",
   "mimetype": "text/x-python",
   "name": "python",
   "nbconvert_exporter": "python",
   "pygments_lexer": "ipython3",
   "version": "3.12.10"
  }
 },
 "nbformat": 4,
 "nbformat_minor": 2
}
