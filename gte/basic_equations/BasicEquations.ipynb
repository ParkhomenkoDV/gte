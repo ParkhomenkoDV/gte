{
 "cells": [
  {
   "cell_type": "code",
   "execution_count": 74,
   "id": "feedadc5-1082-48ab-b60f-fbfe4cbbc77f",
   "metadata": {},
   "outputs": [],
   "source": [
    "import numpy\n",
    "import scipy\n",
    "import sympy\n",
    "import latexify"
   ]
  },
  {
   "cell_type": "code",
   "execution_count": 75,
   "id": "32b76886",
   "metadata": {},
   "outputs": [
    {
     "data": {
      "text/latex": [
       "$$ \\displaystyle \\frac{-b + \\sqrt{ b^{2} - 4 a c }}{2 a} $$"
      ],
      "text/plain": [
       "<latexify.ipython_wrappers.LatexifiedFunction at 0x162ea648550>"
      ]
     },
     "execution_count": 75,
     "metadata": {},
     "output_type": "execute_result"
    }
   ],
   "source": [
    "@latexify.expression\n",
    "def solve(a, b, c):\n",
    "  return (-b + math.sqrt(b**2 - 4*a*c)) / (2*a)\n",
    "\n",
    "solve"
   ]
  },
  {
   "cell_type": "code",
   "execution_count": 76,
   "id": "40ab4eb6",
   "metadata": {},
   "outputs": [],
   "source": [
    "arri = numpy.array([1,2,3])\n",
    "arrf = numpy.array([1.0, 2.0, 3.0])"
   ]
  },
  {
   "cell_type": "code",
   "execution_count": 77,
   "id": "eff0078b",
   "metadata": {},
   "outputs": [
    {
     "name": "stdout",
     "output_type": "stream",
     "text": [
      "False\n",
      "True\n",
      "True\n",
      "True\n",
      "\n",
      "True\n",
      "True\n",
      "False\n",
      "False\n",
      "\n",
      "False\n",
      "False\n",
      "False\n",
      "False\n",
      "\n",
      "False\n",
      "False\n",
      "False\n",
      "False\n"
     ]
    }
   ],
   "source": [
    "print(isinstance(arri[0], numpy.floating))\n",
    "print(isinstance(arri[0], numpy.number))\n",
    "print(isinstance(arri[0], numpy.integer))\n",
    "print(isinstance(arri[0], numpy.int_))\n",
    "print()\n",
    "print(isinstance(arrf[0], numpy.floating))\n",
    "print(isinstance(arrf[0], numpy.number))\n",
    "print(isinstance(arrf[0], numpy.integer))\n",
    "print(isinstance(arrf[0], numpy.int_))\n",
    "print()\n",
    "print(isinstance(5, numpy.floating))\n",
    "print(isinstance(5, numpy.number))\n",
    "print(isinstance(5, numpy.integer))\n",
    "print(isinstance(5, numpy.int_))\n",
    "print()\n",
    "print(isinstance(5.5, numpy.floating))\n",
    "print(isinstance(5.5, numpy.number))\n",
    "print(isinstance(5.5, numpy.integer))\n",
    "print(isinstance(5.5, numpy.int_))"
   ]
  },
  {
   "cell_type": "markdown",
   "id": "7e1f6eea",
   "metadata": {},
   "source": [
    "## Вывод ур-я относ. массового расхода горючего, отнесенного ко входу в I контур"
   ]
  },
  {
   "cell_type": "code",
   "execution_count": 78,
   "id": "9d873026",
   "metadata": {},
   "outputs": [],
   "source": [
    "G_fuel, G_CC3, G_I, G_cool, G_leak = sympy.symbols('G_fuel G_CC3 G_I G_cool G_leak', real=True)\n",
    "g_fuel_CC3, g_cool, g_leak, g_fuel = sympy.symbols('g_fuel_CC3 g_cool g_leak g_fuel', real=True)"
   ]
  },
  {
   "cell_type": "code",
   "execution_count": 79,
   "id": "e9b17e49",
   "metadata": {},
   "outputs": [
    {
     "data": {
      "text/latex": [
       "$\\displaystyle g_{fuel CC3} - \\frac{G_{fuel}}{G_{CC3}}$"
      ],
      "text/plain": [
       "g_fuel_CC3 - G_fuel/G_CC3"
      ]
     },
     "execution_count": 79,
     "metadata": {},
     "output_type": "execute_result"
    }
   ],
   "source": [
    "g_fuel_CC3 - G_fuel / G_CC3"
   ]
  },
  {
   "cell_type": "code",
   "execution_count": 80,
   "id": "e14b6297",
   "metadata": {},
   "outputs": [
    {
     "data": {
      "text/latex": [
       "$\\displaystyle G_{CC3} - G_{I} + G_{cool} - G_{fuel} + G_{leak}$"
      ],
      "text/plain": [
       "G_CC3 - G_I + G_cool - G_fuel + G_leak"
      ]
     },
     "execution_count": 80,
     "metadata": {},
     "output_type": "execute_result"
    }
   ],
   "source": [
    "G_CC3 - (G_I - G_cool - G_leak + G_fuel)"
   ]
  },
  {
   "cell_type": "code",
   "execution_count": 81,
   "id": "adeb24ba",
   "metadata": {},
   "outputs": [
    {
     "data": {
      "text/latex": [
       "$\\displaystyle G_{CC3} - G_{I} \\left(- g_{cool} + g_{fuel} - g_{leak} + 1\\right)$"
      ],
      "text/plain": [
       "G_CC3 - G_I*(-g_cool + g_fuel - g_leak + 1)"
      ]
     },
     "execution_count": 81,
     "metadata": {},
     "output_type": "execute_result"
    }
   ],
   "source": [
    "G_CC3 - (G_I * (1 - g_cool - g_leak + g_fuel))"
   ]
  },
  {
   "cell_type": "code",
   "execution_count": 82,
   "id": "dfa5896f",
   "metadata": {},
   "outputs": [
    {
     "data": {
      "text/latex": [
       "$\\displaystyle g_{fuel CC3}$"
      ],
      "text/plain": [
       "g_fuel_CC3"
      ]
     },
     "execution_count": 82,
     "metadata": {},
     "output_type": "execute_result"
    }
   ],
   "source": [
    "g_fuel_CC3 - G_fuel / (G_I * (1 - g_cool - g_leak + g_fuel))\n",
    "g_fuel_CC3"
   ]
  },
  {
   "cell_type": "code",
   "execution_count": 83,
   "id": "44cfeaa0",
   "metadata": {},
   "outputs": [],
   "source": [
    "f=g_fuel_CC3 - g_fuel / (1 - g_cool - g_leak + g_fuel)"
   ]
  },
  {
   "cell_type": "code",
   "execution_count": 84,
   "id": "7b5a4ba2",
   "metadata": {},
   "outputs": [
    {
     "data": {
      "text/latex": [
       "$\\displaystyle \\left\\{\\frac{g_{fuel CC3} \\left(g_{cool} + g_{leak} - 1\\right)}{g_{fuel CC3} - 1}\\right\\} \\setminus \\left\\{g_{cool} + g_{leak} - 1\\right\\}$"
      ],
      "text/plain": [
       "Complement({g_fuel_CC3*(g_cool + g_leak - 1)/(g_fuel_CC3 - 1)}, {g_cool + g_leak - 1})"
      ]
     },
     "execution_count": 84,
     "metadata": {},
     "output_type": "execute_result"
    }
   ],
   "source": [
    "res = sympy.solveset(f, g_fuel).simplify()\n",
    "res"
   ]
  },
  {
   "cell_type": "markdown",
   "id": "525e75a0",
   "metadata": {},
   "source": [
    "# Вывод уравнения профилирования лопатки по радиусу с потерями для турбины"
   ]
  },
  {
   "cell_type": "code",
   "execution_count": 85,
   "id": "2bcd7d12",
   "metadata": {},
   "outputs": [],
   "source": [
    "r, ro, p, c, ca, cu, L, phi, ksi = sympy.symbols('r ro p c ca cu L phi ksi')"
   ]
  },
  {
   "cell_type": "markdown",
   "id": "a9bbaf60",
   "metadata": {},
   "source": [
    "Уравнение радиального равновесия"
   ]
  },
  {
   "cell_type": "code",
   "execution_count": 86,
   "id": "baef5f49",
   "metadata": {},
   "outputs": [
    {
     "data": {
      "text/latex": [
       "$\\displaystyle - \\frac{cu^{2}}{r} + \\frac{\\frac{d}{d r} p{\\left(r \\right)}}{ro}$"
      ],
      "text/plain": [
       "-cu**2/r + Derivative(p(r), r)/ro"
      ]
     },
     "execution_count": 86,
     "metadata": {},
     "output_type": "execute_result"
    }
   ],
   "source": [
    "p = sympy.Function('p')(r)\n",
    "radial_equilibrium_equation = 1/ro * sympy.diff(p, r) - cu**2/r\n",
    "radial_equilibrium_equation"
   ]
  },
  {
   "cell_type": "markdown",
   "id": "416307a1",
   "metadata": {},
   "source": [
    "Уравнение Бернулли"
   ]
  },
  {
   "cell_type": "code",
   "execution_count": 87,
   "id": "9ee6da96",
   "metadata": {},
   "outputs": [
    {
     "data": {
      "text/latex": [
       "$\\displaystyle \\frac{d}{d r} p{\\left(r \\right)}$"
      ],
      "text/plain": [
       "Derivative(p(r), r)"
      ]
     },
     "execution_count": 87,
     "metadata": {},
     "output_type": "execute_result"
    }
   ],
   "source": [
    "sympy.diff(p, r)"
   ]
  },
  {
   "cell_type": "code",
   "execution_count": 88,
   "id": "2a1cb181",
   "metadata": {},
   "outputs": [
    {
     "data": {
      "text/latex": [
       "$\\displaystyle L + \\frac{c^{2}}{2} + \\frac{p{\\left(r \\right)}}{ro}$"
      ],
      "text/plain": [
       "L + c**2/2 + p(r)/ro"
      ]
     },
     "execution_count": 88,
     "metadata": {},
     "output_type": "execute_result"
    }
   ],
   "source": [
    "Bernoulli_equation = c**2/2 + sympy.integrate(sympy.diff(p, r)/ro, r) + L\n",
    "Bernoulli_equation"
   ]
  },
  {
   "cell_type": "markdown",
   "id": "0353703e",
   "metadata": {},
   "source": [
    "Абсолютная скорость"
   ]
  },
  {
   "cell_type": "code",
   "execution_count": 89,
   "id": "fe59b2bf",
   "metadata": {},
   "outputs": [
    {
     "data": {
      "text/latex": [
       "$\\displaystyle \\sqrt{ca^{2} + cu^{2}}$"
      ],
      "text/plain": [
       "sqrt(ca**2 + cu**2)"
      ]
     },
     "execution_count": 89,
     "metadata": {},
     "output_type": "execute_result"
    }
   ],
   "source": [
    "c = sympy.sqrt(cu**2 + ca**2)\n",
    "c"
   ]
  },
  {
   "cell_type": "markdown",
   "id": "8643d597",
   "metadata": {},
   "source": [
    "Работа сил трения"
   ]
  },
  {
   "cell_type": "code",
   "execution_count": 90,
   "id": "fc1d592b",
   "metadata": {},
   "outputs": [
    {
     "data": {
      "text/latex": [
       "$\\displaystyle \\frac{\\left(-1 + \\frac{1}{\\phi^{2}}\\right) \\left(ca^{2} + cu^{2}\\right)}{2}$"
      ],
      "text/plain": [
       "(-1 + phi**(-2))*(ca**2 + cu**2)/2"
      ]
     },
     "execution_count": 90,
     "metadata": {},
     "output_type": "execute_result"
    }
   ],
   "source": [
    "L = (phi**-2 - 1)*c**2/2\n",
    "L"
   ]
  },
  {
   "cell_type": "markdown",
   "id": "362a7816",
   "metadata": {},
   "source": [
    "Вывод"
   ]
  },
  {
   "cell_type": "code",
   "execution_count": 94,
   "id": "3da534aa",
   "metadata": {},
   "outputs": [
    {
     "data": {
      "text/latex": [
       "$\\displaystyle L + \\frac{c^{2}}{2} + \\frac{p{\\left(r \\right)}}{ro}$"
      ],
      "text/plain": [
       "L + c**2/2 + p(r)/ro"
      ]
     },
     "execution_count": 94,
     "metadata": {},
     "output_type": "execute_result"
    }
   ],
   "source": [
    "Bernoulli_equation"
   ]
  },
  {
   "cell_type": "code",
   "execution_count": null,
   "id": "e86bc6af",
   "metadata": {},
   "outputs": [],
   "source": []
  }
 ],
 "metadata": {
  "kernelspec": {
   "display_name": "Python 3 (ipykernel)",
   "language": "python",
   "name": "python3"
  },
  "language_info": {
   "codemirror_mode": {
    "name": "ipython",
    "version": 3
   },
   "file_extension": ".py",
   "mimetype": "text/x-python",
   "name": "python",
   "nbconvert_exporter": "python",
   "pygments_lexer": "ipython3",
   "version": "3.11.9"
  }
 },
 "nbformat": 4,
 "nbformat_minor": 5
}
